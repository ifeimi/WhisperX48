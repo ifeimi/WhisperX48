{
 "cells": [
  {
   "attachments": {},
   "cell_type": "markdown",
   "metadata": {},
   "source": [
    "# stable-whisper48_local: 用于本地运行stable-whisper的Jupyter Notebook脚本\n"
   ]
  },
  {
   "cell_type": "code",
   "execution_count": null,
   "metadata": {
    "cellView": "form",
    "id": "z0igG7ruI-7q",
    "scrolled": false
   },
   "outputs": [],
   "source": [
    "'''\n",
    "This script is referenced and modified minorly from Ayanaminn's N46Whisper project under MIT license. \n",
    "\n",
    "MIT License\n",
    "\n",
    "Copyright (c) 2022 Ayanaminn\n",
    "\n",
    "Permission is hereby granted, free of charge, to any person obtaining a copy of this software and associated documentation files (the \"Software\"), to deal in the Software without restriction, including without limitation the rights to use, copy, modify, merge, publish, distribute, sublicense, and/or sell copies of the Software, and to permit persons to whom the Software is furnished to do so, subject to the following conditions:\n",
    "\n",
    "The above copyright notice and this permission notice shall be included in all copies or substantial portions of the Software.\n",
    "\n",
    "THE SOFTWARE IS PROVIDED \"AS IS\", WITHOUT WARRANTY OF ANY KIND, EXPRESS OR IMPLIED, INCLUDING BUT NOT LIMITED TO THE WARRANTIES OF MERCHANTABILITY, FITNESS FOR A PARTICULAR PURPOSE AND NONINFRINGEMENT. IN NO EVENT SHALL THE AUTHORS OR COPYRIGHT HOLDERS BE LIABLE FOR ANY CLAIM, DAMAGES OR OTHER LIABILITY, WHETHER IN AN ACTION OF CONTRACT, TORT OR OTHERWISE, ARISING FROM, OUT OF OR IN CONNECTION WITH THE SOFTWARE OR THE USE OR OTHER DEALINGS IN THE SOFTWARE.\n",
    "'''\n",
    "\n",
    "import os\n",
    "import ffmpeg\n",
    "import subprocess\n",
    "import torch\n",
    "import stable_whisper\n",
    "import time\n",
    "from pathlib import Path\n",
    "import sys\n",
    "\n",
    "\n",
    "model_size = \"large-v2\"  # @param [\"base\",\"small\",\"medium\", \"large\"]\n",
    "language = \"ja\"  # @param {type:\"string\"}\n",
    "#sub_style = \"default\"  # @param [\"default\", \"ikedaCN\", \"kaedeCN\",\"sugawaraCN\"]\n",
    "#compression_ratio_threshold = 2.4 # @param {type:\"number\"}\n",
    "#no_speech_threshold = 0.6 # @param {type:\"number\"}\n",
    "#logprob_threshold = -1.0 # @param {type:\"number\"}\n",
    "#condition_on_previous_text = \"True\" # @param [\"True\", \"False\"]\n",
    "\n",
    "output_dir = \"./files/\"  # 默认的音频文件输入和字幕文件输出路径 Path for input audio file and output subtitle by default\n",
    "file_name = \"sample1.wav\"  # 在这里输入音频文件名 Name of the audio file\n",
    "audio_file = output_dir + file_name\n",
    "\n",
    "device = \"cuda\"\n",
    "torch.cuda.empty_cache()\n",
    "print('加载Whisper模型 Loading Whisper model...')\n",
    "model = stable_whisper.load_model(model_size, device)\n",
    "\n",
    "# stable-whisper transcribe\n",
    "tic = time.time()\n",
    "print('识别中 Transcribe in progress...')\n",
    "results = model.transcribe(audio_file, language =language)\n",
    "print('识别完毕 Done')\n",
    "stable_whisper.results_to_sentence_srt(results, f'{file_name}.srt')\n",
    "\n",
    "toc = time.time()\n",
    "print('字幕生成完毕 Subtitle generated!')\n",
    "print(f'Time consumpution {toc-tic}s')\n",
    "\n",
    "torch.cuda.empty_cache()"
   ]
  },
  {
   "attachments": {},
   "cell_type": "markdown",
   "metadata": {},
   "source": [
    "<font size=\"2\">  \n",
    "\n",
    "Last modified 2023-03-08  \n",
    "  \n",
    "Author: ifeimi ♢ Email me: yfwu0202 AT gmail.com\n",
    "\n"
   ]
  }
 ],
 "metadata": {
  "accelerator": "GPU",
  "colab": {
   "provenance": []
  },
  "gpuClass": "standard",
  "kernelspec": {
   "display_name": "Python 3 (ipykernel)",
   "language": "python",
   "name": "python3"
  },
  "language_info": {
   "codemirror_mode": {
    "name": "ipython",
    "version": 3
   },
   "file_extension": ".py",
   "mimetype": "text/x-python",
   "name": "python",
   "nbconvert_exporter": "python",
   "pygments_lexer": "ipython3",
   "version": "3.9.13"
  }
 },
 "nbformat": 4,
 "nbformat_minor": 1
}
